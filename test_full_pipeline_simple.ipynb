{
 "cells": [
  {
   "cell_type": "code",
   "execution_count": 4,
   "id": "3b826124-16b5-41b8-9187-12620acc4954",
   "metadata": {},
   "outputs": [],
   "source": [
    "import numpy as np\n",
    "\n",
    "from hypertoy.toyknn import KnnModel\n",
    "from hypertoy.estimator import ComplexKnn\n",
    "from hypertoy.pipeline import Pipeline\n",
    "\n",
    "from hypernets.searchers import RandomSearcher\n",
    "from hypernets.core.ops import ModuleChoice, HyperInput\n",
    "from hypernets.core.search_space import Choice, Real, Int, Bool\n",
    "from hypernets.core.search_space import HyperSpace\n",
    "from hypernets.tabular import column_selector\n",
    "\n",
    "from sklearn_.transformers import SimpleImputer, SafeOrdinalEncoder"
   ]
  },
  {
   "cell_type": "code",
   "execution_count": 2,
   "id": "15527d69-3e14-4160-9ad9-43326fefc9f3",
   "metadata": {},
   "outputs": [],
   "source": [
    "# with a simpler search space\n",
    "def search_space_v1():\n",
    "    space = HyperSpace()\n",
    "    with space.as_default():\n",
    "        hyper_input = HyperInput(name='input1')\n",
    "        cs = column_selector.column_object_category_bool\n",
    "        cat_pipeline = Pipeline([\n",
    "        SimpleImputer(missing_values=np.nan, strategy='constant', name=f'categorical_imputer_{0}'),\n",
    "        SafeOrdinalEncoder(name=f'categorical_label_encoder_{0}', dtype='int32')],\n",
    "        columns=cs,\n",
    "        name=f'categorical_pipeline_simple_{0}',\n",
    "        )(hyper_input)\n",
    "    \n",
    "\n",
    "        knn_params = {'n_neighbors': Choice([1, 3, 5]),\n",
    "                'weights': Choice(['uniform', 'distance']),\n",
    "                'algorithm': Choice(['auto', 'ball_tree', 'kd_tree', 'brute']),\n",
    "                'leaf_size': Choice([10, 20 ,30]),\n",
    "                'p': Choice([1, 2]),\n",
    "                'metric': 'minkowski',\n",
    "                'metric_params': None,\n",
    "                'n_jobs': None\n",
    "        }\n",
    "\n",
    "        knn_est = ComplexKnn(fit_kwargs={}, **knn_params)\n",
    "        knn_est(cat_pipeline)\n",
    "        space.set_inputs(hyper_input)    \n",
    "    return space"
   ]
  },
  {
   "cell_type": "code",
   "execution_count": 14,
   "id": "36b669e4-0bde-4c94-a55a-e94cea807859",
   "metadata": {},
   "outputs": [
    {
     "data": {
      "text/html": [
       "<table border=\"1\" class=\"dataframe\">\n",
       "<thead>\n",
       "<tr style=\"text-align: right;\">\n",
       "  <th>key</th>\n",
       "  <th>value</th>\n",
       "</tr>\n",
       "</thead>\n",
       "<tbody><tr>\n",
       "  <td>signature</td>\n",
       "  <td>81cc4082bf13e3a83ed3ef66075b9c64</td>\n",
       "</tr>\n",
       "<tr>\n",
       "  <td>vectors</td>\n",
       "  <td>[2, 1, 2, 0, 0]</td>\n",
       "</tr><tr>\n",
       "  <td>0-Module_ComplexKnn_1.n_neighbors</td>\n",
       "  <td>5</td>\n",
       "</tr>\n",
       "<tr><tr>\n",
       "  <td>1-Module_ComplexKnn_1.weights</td>\n",
       "  <td>distance</td>\n",
       "</tr>\n",
       "<tr><tr>\n",
       "  <td>2-Module_ComplexKnn_1.algorithm</td>\n",
       "  <td>kd_tree</td>\n",
       "</tr>\n",
       "<tr><tr>\n",
       "  <td>3-Module_ComplexKnn_1.leaf_size</td>\n",
       "  <td>10</td>\n",
       "</tr>\n",
       "<tr><tr>\n",
       "  <td>4-Module_ComplexKnn_1.p</td>\n",
       "  <td>1</td>\n",
       "</tr>\n",
       "<tr>  </tbody>\n",
       "</table>\n",
       "</div>"
      ],
      "text/plain": [
       "DAG_HyperSpace_1"
      ]
     },
     "execution_count": 14,
     "metadata": {},
     "output_type": "execute_result"
    }
   ],
   "source": [
    "searcher = RandomSearcher(search_space_v1, optimize_direction='max')\n",
    "test_space = searcher.sample()\n",
    "test_space"
   ]
  },
  {
   "cell_type": "code",
   "execution_count": 11,
   "id": "729a3467-ca1e-48be-8c65-4b3dd5c1ba0f",
   "metadata": {},
   "outputs": [],
   "source": [
    "from sklearn.datasets import load_digits\n",
    "from sklearn.model_selection import train_test_split\n",
    "\n",
    "X, y = load_digits(return_X_y=True, as_frame=True)\n",
    "X_train, X_test, y_train, y_test = train_test_split(X, y, test_size=0.1, random_state=10)"
   ]
  },
  {
   "cell_type": "code",
   "execution_count": 12,
   "id": "ec773386-998a-4132-b49a-378a3c256b6f",
   "metadata": {},
   "outputs": [
    {
     "name": "stdout",
     "output_type": "stream",
     "text": [
      "06-25 14:25:37 I hypernets.u.common.py 124 - 10 class detected, inferred as a [multiclass classification] task\n",
      "06-25 14:25:37 I hypernets.c.meta_learner.py 22 - Initialize Meta Learner: dataset_id:4c49cd6494d6004b32d4a46cc11b473a\n",
      "06-25 14:25:37 I hypernets.d.in_process_dispatcher.py 77 - Trial 1 done, reward: 0.9888888888888889, best_trial_no:1, best_reward:0.9888888888888889\n",
      "\n",
      "06-25 14:25:37 I hypernets.d.in_process_dispatcher.py 77 - Trial 2 done, reward: 0.9777777777777777, best_trial_no:1, best_reward:0.9888888888888889\n",
      "\n",
      "06-25 14:25:37 I hypernets.d.in_process_dispatcher.py 77 - Trial 3 done, reward: 0.9722222222222222, best_trial_no:1, best_reward:0.9888888888888889\n",
      "\n",
      "06-25 14:25:37 I hypernets.d.in_process_dispatcher.py 77 - Trial 4 done, reward: 0.9833333333333333, best_trial_no:1, best_reward:0.9888888888888889\n",
      "\n",
      "06-25 14:25:37 I hypernets.d.in_process_dispatcher.py 77 - Trial 5 done, reward: 0.9888888888888889, best_trial_no:1, best_reward:0.9888888888888889\n",
      "\n",
      "06-25 14:25:37 I hypernets.d.in_process_dispatcher.py 77 - Trial 6 done, reward: 0.9777777777777777, best_trial_no:1, best_reward:0.9888888888888889\n",
      "\n",
      "06-25 14:25:37 I hypernets.d.in_process_dispatcher.py 77 - Trial 7 done, reward: 0.9722222222222222, best_trial_no:1, best_reward:0.9888888888888889\n",
      "\n",
      "06-25 14:25:38 I hypernets.d.in_process_dispatcher.py 77 - Trial 8 done, reward: 0.9833333333333333, best_trial_no:1, best_reward:0.9888888888888889\n",
      "\n",
      "06-25 14:25:38 I hypernets.d.in_process_dispatcher.py 77 - Trial 9 done, reward: 0.9888888888888889, best_trial_no:1, best_reward:0.9888888888888889\n",
      "\n",
      "06-25 14:25:38 I hypernets.d.in_process_dispatcher.py 77 - Trial 10 done, reward: 0.9777777777777777, best_trial_no:1, best_reward:0.9888888888888889\n",
      "\n"
     ]
    }
   ],
   "source": [
    "sampled_model = KnnModel(searcher, task='multiclass')\n",
    "sampled_model.search(X_train, y_train, X_eval=X_test, y_eval=y_test)"
   ]
  },
  {
   "cell_type": "code",
   "execution_count": 13,
   "id": "3fdc756e-abe3-4f0e-98b1-5efb72cb2480",
   "metadata": {},
   "outputs": [
    {
     "data": {
      "text/plain": [
       "0.9913419913419913"
      ]
     },
     "execution_count": 13,
     "metadata": {},
     "output_type": "execute_result"
    }
   ],
   "source": [
    "best_classifier = sampled_model.load_estimator(sampled_model.get_best_trial().model_file)\n",
    "best_classifier.knn_model.score(X_train, y_train)"
   ]
  },
  {
   "cell_type": "code",
   "execution_count": 19,
   "id": "0468c038-ef78-4b30-8d64-a8a2a4bd9abc",
   "metadata": {},
   "outputs": [
    {
     "data": {
      "text/plain": [
       "Pipeline(steps=[('categorical_imputer_0', SimpleImputer(strategy='constant')),\n",
       "                ('categorical_label_encoder_0',\n",
       "                 SafeOrdinalEncoder(dtype='int32'))])"
      ]
     },
     "execution_count": 19,
     "metadata": {},
     "output_type": "execute_result"
    }
   ],
   "source": [
    "best_classifier.data_pipeline"
   ]
  },
  {
   "cell_type": "code",
   "execution_count": null,
   "id": "22f992ad-020b-48bb-896b-9b647a5aaddf",
   "metadata": {},
   "outputs": [],
   "source": []
  }
 ],
 "metadata": {
  "kernelspec": {
   "display_name": "Python 3",
   "language": "python",
   "name": "python3"
  },
  "language_info": {
   "codemirror_mode": {
    "name": "ipython",
    "version": 3
   },
   "file_extension": ".py",
   "mimetype": "text/x-python",
   "name": "python",
   "nbconvert_exporter": "python",
   "pygments_lexer": "ipython3",
   "version": "3.7.10"
  }
 },
 "nbformat": 4,
 "nbformat_minor": 5
}
