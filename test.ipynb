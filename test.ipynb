{
 "metadata": {
  "language_info": {
   "codemirror_mode": {
    "name": "ipython",
    "version": 3
   },
   "file_extension": ".py",
   "mimetype": "text/x-python",
   "name": "python",
   "nbconvert_exporter": "python",
   "pygments_lexer": "ipython3",
   "version": "3.7.4"
  },
  "orig_nbformat": 2,
  "kernelspec": {
   "name": "python374jvsc74a57bd0a04ecd20ac1b81b3d1107bd90e8eb8daad863bc08a44788408a62a6c48ee0b72",
   "display_name": "Python 3.7.4 64-bit ('base': conda)"
  }
 },
 "nbformat": 4,
 "nbformat_minor": 2,
 "cells": [
  {
   "cell_type": "code",
   "execution_count": 1,
   "metadata": {},
   "outputs": [
    {
     "output_type": "stream",
     "name": "stdout",
     "text": [
      "06-10 11:51:57 I hypernets.u._fsutils.py 300 - use /var/folders/sf/4v_dc8756mb7lsc2stqj1zjw0000gn/T/workdir as working directory.\n"
     ]
    }
   ],
   "source": [
    "from hypertoy.toyknn import toy_KNN\n",
    "from hypernets.searchers import RandomSearcher\n",
    "from hypertoy.search_space import search_space_eg"
   ]
  },
  {
   "cell_type": "code",
   "execution_count": 2,
   "metadata": {},
   "outputs": [
    {
     "output_type": "execute_result",
     "data": {
      "text/plain": [
       "   sepal length (cm)  sepal width (cm)  petal length (cm)  petal width (cm)\n",
       "0                5.1               3.5                1.4               0.2\n",
       "1                4.9               3.0                1.4               0.2\n",
       "2                4.7               3.2                1.3               0.2"
      ],
      "text/html": "<div>\n<style scoped>\n    .dataframe tbody tr th:only-of-type {\n        vertical-align: middle;\n    }\n\n    .dataframe tbody tr th {\n        vertical-align: top;\n    }\n\n    .dataframe thead th {\n        text-align: right;\n    }\n</style>\n<table border=\"1\" class=\"dataframe\">\n  <thead>\n    <tr style=\"text-align: right;\">\n      <th></th>\n      <th>sepal length (cm)</th>\n      <th>sepal width (cm)</th>\n      <th>petal length (cm)</th>\n      <th>petal width (cm)</th>\n    </tr>\n  </thead>\n  <tbody>\n    <tr>\n      <th>0</th>\n      <td>5.1</td>\n      <td>3.5</td>\n      <td>1.4</td>\n      <td>0.2</td>\n    </tr>\n    <tr>\n      <th>1</th>\n      <td>4.9</td>\n      <td>3.0</td>\n      <td>1.4</td>\n      <td>0.2</td>\n    </tr>\n    <tr>\n      <th>2</th>\n      <td>4.7</td>\n      <td>3.2</td>\n      <td>1.3</td>\n      <td>0.2</td>\n    </tr>\n  </tbody>\n</table>\n</div>"
     },
     "metadata": {},
     "execution_count": 2
    }
   ],
   "source": [
    "from sklearn.datasets import load_iris\n",
    "from sklearn.model_selection import train_test_split\n",
    "\n",
    "X, y = load_iris(return_X_y=True, as_frame=True)\n",
    "X_train, X_test, y_train, y_test = train_test_split(X, y, test_size=0.2, random_state=42)\n",
    "X[:3]"
   ]
  },
  {
   "cell_type": "code",
   "execution_count": 3,
   "metadata": {},
   "outputs": [],
   "source": [
    "search_space = search_space_eg\n",
    "searcher = RandomSearcher(search_space)\n",
    "sampled_model = toy_KNN(searcher, task='multiclass', reward_metric='accuracy', callbacks=[])"
   ]
  },
  {
   "cell_type": "code",
   "execution_count": 4,
   "metadata": {},
   "outputs": [
    {
     "output_type": "stream",
     "name": "stdout",
     "text": [
      "06-10 11:52:08 I hypernets.u.common.py 124 - 3 class detected, inferred as a [multiclass classification] task\n",
      "06-10 11:52:08 I hypernets.c.meta_learner.py 22 - Initialize Meta Learner: dataset_id:74e7c134740a0f846f4c5e57fa5e6c93\n",
      "06-10 11:52:08 I hypernets.d.in_process_dispatcher.py 77 - Trial 1 done, reward: 1.0, best_trial_no:1, best_reward:1.0\n",
      "\n",
      "06-10 11:52:08 I hypernets.d.in_process_dispatcher.py 77 - Trial 2 done, reward: 0.9666666666666667, best_trial_no:2, best_reward:0.9666666666666667\n",
      "\n",
      "06-10 11:52:08 I hypernets.d.in_process_dispatcher.py 77 - Trial 3 done, reward: 1.0, best_trial_no:2, best_reward:0.9666666666666667\n",
      "\n",
      "06-10 11:52:08 I hypernets.d.in_process_dispatcher.py 77 - Trial 4 done, reward: 1.0, best_trial_no:2, best_reward:0.9666666666666667\n",
      "\n",
      "06-10 11:52:08 I hypernets.d.in_process_dispatcher.py 77 - Trial 5 done, reward: 1.0, best_trial_no:2, best_reward:0.9666666666666667\n",
      "\n",
      "06-10 11:52:08 I hypernets.d.in_process_dispatcher.py 77 - Trial 6 done, reward: 1.0, best_trial_no:2, best_reward:0.9666666666666667\n",
      "\n",
      "06-10 11:52:08 I hypernets.d.in_process_dispatcher.py 77 - Trial 7 done, reward: 0.9666666666666667, best_trial_no:2, best_reward:0.9666666666666667\n",
      "\n",
      "06-10 11:52:08 I hypernets.d.in_process_dispatcher.py 77 - Trial 9 done, reward: 1.0, best_trial_no:2, best_reward:0.9666666666666667\n",
      "\n",
      "06-10 11:52:08 I hypernets.d.in_process_dispatcher.py 77 - Trial 10 done, reward: 0.9666666666666667, best_trial_no:2, best_reward:0.9666666666666667\n",
      "\n"
     ]
    }
   ],
   "source": [
    "sampled_model.search(X_train, y_train, X_eval=X_test, y_eval=y_test, cv=False)"
   ]
  },
  {
   "cell_type": "code",
   "execution_count": 13,
   "metadata": {},
   "outputs": [
    {
     "output_type": "execute_result",
     "data": {
      "text/plain": [
       "   mean radius  mean texture  mean perimeter  mean area  mean smoothness  \\\n",
       "0        17.99         10.38           122.8     1001.0          0.11840   \n",
       "1        20.57         17.77           132.9     1326.0          0.08474   \n",
       "2        19.69         21.25           130.0     1203.0          0.10960   \n",
       "\n",
       "   mean compactness  mean concavity  mean concave points  mean symmetry  \\\n",
       "0           0.27760          0.3001              0.14710         0.2419   \n",
       "1           0.07864          0.0869              0.07017         0.1812   \n",
       "2           0.15990          0.1974              0.12790         0.2069   \n",
       "\n",
       "   mean fractal dimension  ...  worst radius  worst texture  worst perimeter  \\\n",
       "0                 0.07871  ...         25.38          17.33            184.6   \n",
       "1                 0.05667  ...         24.99          23.41            158.8   \n",
       "2                 0.05999  ...         23.57          25.53            152.5   \n",
       "\n",
       "   worst area  worst smoothness  worst compactness  worst concavity  \\\n",
       "0      2019.0            0.1622             0.6656           0.7119   \n",
       "1      1956.0            0.1238             0.1866           0.2416   \n",
       "2      1709.0            0.1444             0.4245           0.4504   \n",
       "\n",
       "   worst concave points  worst symmetry  worst fractal dimension  \n",
       "0                0.2654          0.4601                  0.11890  \n",
       "1                0.1860          0.2750                  0.08902  \n",
       "2                0.2430          0.3613                  0.08758  \n",
       "\n",
       "[3 rows x 30 columns]"
      ],
      "text/html": "<div>\n<style scoped>\n    .dataframe tbody tr th:only-of-type {\n        vertical-align: middle;\n    }\n\n    .dataframe tbody tr th {\n        vertical-align: top;\n    }\n\n    .dataframe thead th {\n        text-align: right;\n    }\n</style>\n<table border=\"1\" class=\"dataframe\">\n  <thead>\n    <tr style=\"text-align: right;\">\n      <th></th>\n      <th>mean radius</th>\n      <th>mean texture</th>\n      <th>mean perimeter</th>\n      <th>mean area</th>\n      <th>mean smoothness</th>\n      <th>mean compactness</th>\n      <th>mean concavity</th>\n      <th>mean concave points</th>\n      <th>mean symmetry</th>\n      <th>mean fractal dimension</th>\n      <th>...</th>\n      <th>worst radius</th>\n      <th>worst texture</th>\n      <th>worst perimeter</th>\n      <th>worst area</th>\n      <th>worst smoothness</th>\n      <th>worst compactness</th>\n      <th>worst concavity</th>\n      <th>worst concave points</th>\n      <th>worst symmetry</th>\n      <th>worst fractal dimension</th>\n    </tr>\n  </thead>\n  <tbody>\n    <tr>\n      <th>0</th>\n      <td>17.99</td>\n      <td>10.38</td>\n      <td>122.8</td>\n      <td>1001.0</td>\n      <td>0.11840</td>\n      <td>0.27760</td>\n      <td>0.3001</td>\n      <td>0.14710</td>\n      <td>0.2419</td>\n      <td>0.07871</td>\n      <td>...</td>\n      <td>25.38</td>\n      <td>17.33</td>\n      <td>184.6</td>\n      <td>2019.0</td>\n      <td>0.1622</td>\n      <td>0.6656</td>\n      <td>0.7119</td>\n      <td>0.2654</td>\n      <td>0.4601</td>\n      <td>0.11890</td>\n    </tr>\n    <tr>\n      <th>1</th>\n      <td>20.57</td>\n      <td>17.77</td>\n      <td>132.9</td>\n      <td>1326.0</td>\n      <td>0.08474</td>\n      <td>0.07864</td>\n      <td>0.0869</td>\n      <td>0.07017</td>\n      <td>0.1812</td>\n      <td>0.05667</td>\n      <td>...</td>\n      <td>24.99</td>\n      <td>23.41</td>\n      <td>158.8</td>\n      <td>1956.0</td>\n      <td>0.1238</td>\n      <td>0.1866</td>\n      <td>0.2416</td>\n      <td>0.1860</td>\n      <td>0.2750</td>\n      <td>0.08902</td>\n    </tr>\n    <tr>\n      <th>2</th>\n      <td>19.69</td>\n      <td>21.25</td>\n      <td>130.0</td>\n      <td>1203.0</td>\n      <td>0.10960</td>\n      <td>0.15990</td>\n      <td>0.1974</td>\n      <td>0.12790</td>\n      <td>0.2069</td>\n      <td>0.05999</td>\n      <td>...</td>\n      <td>23.57</td>\n      <td>25.53</td>\n      <td>152.5</td>\n      <td>1709.0</td>\n      <td>0.1444</td>\n      <td>0.4245</td>\n      <td>0.4504</td>\n      <td>0.2430</td>\n      <td>0.3613</td>\n      <td>0.08758</td>\n    </tr>\n  </tbody>\n</table>\n<p>3 rows × 30 columns</p>\n</div>"
     },
     "metadata": {},
     "execution_count": 13
    }
   ],
   "source": [
    "from sklearn.datasets import load_breast_cancer\n",
    "X1, y1 = load_breast_cancer(return_X_y=True, as_frame=True)\n",
    "X_train1, X_test1, y_train1, y_test1 = train_test_split(X1, y1, test_size=0.2, random_state=42)\n",
    "X1[:3]"
   ]
  },
  {
   "cell_type": "code",
   "execution_count": 14,
   "metadata": {},
   "outputs": [
    {
     "output_type": "stream",
     "name": "stdout",
     "text": [
      "06-10 14:04:05 I hypernets.u.common.py 107 - 2 class detected, {0, 1}, so inferred as a [binary classification] task\n",
      "06-10 14:04:05 I hypernets.c.meta_learner.py 22 - Initialize Meta Learner: dataset_id:ed1ef8ee0f27914cf300d1596f6fbf48\n",
      "06-10 14:04:05 I hypernets.d.in_process_dispatcher.py 77 - Trial 1 done, reward: 0.956140350877193, best_trial_no:1, best_reward:0.9298245614035088\n",
      "\n",
      "06-10 14:04:05 I hypernets.d.in_process_dispatcher.py 77 - Trial 2 done, reward: 0.9298245614035088, best_trial_no:1, best_reward:0.9298245614035088\n",
      "\n",
      "06-10 14:04:05 I hypernets.d.in_process_dispatcher.py 77 - Trial 3 done, reward: 0.9298245614035088, best_trial_no:1, best_reward:0.9298245614035088\n",
      "\n",
      "06-10 14:04:05 I hypernets.d.in_process_dispatcher.py 77 - Trial 4 done, reward: 0.956140350877193, best_trial_no:1, best_reward:0.9298245614035088\n",
      "\n",
      "06-10 14:04:05 I hypernets.d.in_process_dispatcher.py 77 - Trial 5 done, reward: 0.9473684210526315, best_trial_no:1, best_reward:0.9298245614035088\n",
      "\n",
      "06-10 14:04:05 I hypernets.d.in_process_dispatcher.py 77 - Trial 6 done, reward: 0.9298245614035088, best_trial_no:1, best_reward:0.9298245614035088\n",
      "\n",
      "06-10 14:04:05 I hypernets.d.in_process_dispatcher.py 77 - Trial 7 done, reward: 0.9473684210526315, best_trial_no:1, best_reward:0.9298245614035088\n",
      "\n",
      "06-10 14:04:05 I hypernets.d.in_process_dispatcher.py 77 - Trial 8 done, reward: 0.956140350877193, best_trial_no:1, best_reward:0.9298245614035088\n",
      "\n",
      "06-10 14:04:05 I hypernets.d.in_process_dispatcher.py 77 - Trial 9 done, reward: 0.9298245614035088, best_trial_no:1, best_reward:0.9298245614035088\n",
      "\n",
      "06-10 14:04:05 I hypernets.d.in_process_dispatcher.py 77 - Trial 10 done, reward: 0.9298245614035088, best_trial_no:1, best_reward:0.9298245614035088\n",
      "\n"
     ]
    }
   ],
   "source": [
    "sampled_model.search(X_train1, y_train1, X_eval=X_test1, y_eval=y_test1, cv=False)"
   ]
  },
  {
   "cell_type": "code",
   "execution_count": 17,
   "metadata": {},
   "outputs": [
    {
     "output_type": "stream",
     "name": "stdout",
     "text": [
      "06-10 14:07:17 I hypernets.u.common.py 107 - 2 class detected, {0, 1}, so inferred as a [binary classification] task\n",
      "06-10 14:07:17 I hypernets.c.meta_learner.py 22 - Initialize Meta Learner: dataset_id:7bcea72e34ec0a19659b72a5cc1539f4\n",
      "06-10 14:07:17 I hypernets.d.in_process_dispatcher.py 77 - Trial 1 done, reward: 1.0, best_trial_no:1, best_reward:1.0\n",
      "\n",
      "06-10 14:07:17 I hypernets.d.in_process_dispatcher.py 77 - Trial 2 done, reward: 1.0, best_trial_no:1, best_reward:1.0\n",
      "\n",
      "06-10 14:07:18 I hypernets.d.in_process_dispatcher.py 77 - Trial 3 done, reward: 1.0, best_trial_no:1, best_reward:1.0\n",
      "\n",
      "06-10 14:07:18 I hypernets.d.in_process_dispatcher.py 77 - Trial 4 done, reward: 0.9649122807017544, best_trial_no:4, best_reward:0.9649122807017544\n",
      "\n",
      "06-10 14:07:18 I hypernets.d.in_process_dispatcher.py 77 - Trial 5 done, reward: 0.9649122807017544, best_trial_no:4, best_reward:0.9649122807017544\n",
      "\n",
      "06-10 14:07:18 I hypernets.d.in_process_dispatcher.py 77 - Trial 6 done, reward: 0.9649122807017544, best_trial_no:4, best_reward:0.9649122807017544\n",
      "\n",
      "06-10 14:07:18 I hypernets.d.in_process_dispatcher.py 77 - Trial 7 done, reward: 1.0, best_trial_no:4, best_reward:0.9649122807017544\n",
      "\n",
      "06-10 14:07:18 I hypernets.d.in_process_dispatcher.py 77 - Trial 8 done, reward: 1.0, best_trial_no:4, best_reward:0.9649122807017544\n",
      "\n",
      "06-10 14:07:19 I hypernets.d.in_process_dispatcher.py 77 - Trial 9 done, reward: 1.0, best_trial_no:4, best_reward:0.9649122807017544\n",
      "\n",
      "06-10 14:07:19 I hypernets.d.in_process_dispatcher.py 77 - Trial 10 done, reward: 1.0, best_trial_no:4, best_reward:0.9649122807017544\n",
      "\n"
     ]
    }
   ],
   "source": [
    "from hypernets.searchers import MCTSSearcher\n",
    "searcher1 = MCTSSearcher(search_space_eg)\n",
    "sampled_model1 = toy_KNN(searcher1, task='multiclass', reward_metric='accuracy')\n",
    "sampled_model1.search(X1, y1, X_eval=X_test1, y_eval=y_test1, cv=False)"
   ]
  },
  {
   "cell_type": "code",
   "execution_count": 18,
   "metadata": {},
   "outputs": [
    {
     "output_type": "execute_result",
     "data": {
      "text/plain": [
       "   pixel_0_0  pixel_0_1  pixel_0_2  pixel_0_3  pixel_0_4  pixel_0_5  \\\n",
       "0        0.0        0.0        5.0       13.0        9.0        1.0   \n",
       "1        0.0        0.0        0.0       12.0       13.0        5.0   \n",
       "2        0.0        0.0        0.0        4.0       15.0       12.0   \n",
       "\n",
       "   pixel_0_6  pixel_0_7  pixel_1_0  pixel_1_1  ...  pixel_6_6  pixel_6_7  \\\n",
       "0        0.0        0.0        0.0        0.0  ...        0.0        0.0   \n",
       "1        0.0        0.0        0.0        0.0  ...        0.0        0.0   \n",
       "2        0.0        0.0        0.0        0.0  ...        5.0        0.0   \n",
       "\n",
       "   pixel_7_0  pixel_7_1  pixel_7_2  pixel_7_3  pixel_7_4  pixel_7_5  \\\n",
       "0        0.0        0.0        6.0       13.0       10.0        0.0   \n",
       "1        0.0        0.0        0.0       11.0       16.0       10.0   \n",
       "2        0.0        0.0        0.0        3.0       11.0       16.0   \n",
       "\n",
       "   pixel_7_6  pixel_7_7  \n",
       "0        0.0        0.0  \n",
       "1        0.0        0.0  \n",
       "2        9.0        0.0  \n",
       "\n",
       "[3 rows x 64 columns]"
      ],
      "text/html": "<div>\n<style scoped>\n    .dataframe tbody tr th:only-of-type {\n        vertical-align: middle;\n    }\n\n    .dataframe tbody tr th {\n        vertical-align: top;\n    }\n\n    .dataframe thead th {\n        text-align: right;\n    }\n</style>\n<table border=\"1\" class=\"dataframe\">\n  <thead>\n    <tr style=\"text-align: right;\">\n      <th></th>\n      <th>pixel_0_0</th>\n      <th>pixel_0_1</th>\n      <th>pixel_0_2</th>\n      <th>pixel_0_3</th>\n      <th>pixel_0_4</th>\n      <th>pixel_0_5</th>\n      <th>pixel_0_6</th>\n      <th>pixel_0_7</th>\n      <th>pixel_1_0</th>\n      <th>pixel_1_1</th>\n      <th>...</th>\n      <th>pixel_6_6</th>\n      <th>pixel_6_7</th>\n      <th>pixel_7_0</th>\n      <th>pixel_7_1</th>\n      <th>pixel_7_2</th>\n      <th>pixel_7_3</th>\n      <th>pixel_7_4</th>\n      <th>pixel_7_5</th>\n      <th>pixel_7_6</th>\n      <th>pixel_7_7</th>\n    </tr>\n  </thead>\n  <tbody>\n    <tr>\n      <th>0</th>\n      <td>0.0</td>\n      <td>0.0</td>\n      <td>5.0</td>\n      <td>13.0</td>\n      <td>9.0</td>\n      <td>1.0</td>\n      <td>0.0</td>\n      <td>0.0</td>\n      <td>0.0</td>\n      <td>0.0</td>\n      <td>...</td>\n      <td>0.0</td>\n      <td>0.0</td>\n      <td>0.0</td>\n      <td>0.0</td>\n      <td>6.0</td>\n      <td>13.0</td>\n      <td>10.0</td>\n      <td>0.0</td>\n      <td>0.0</td>\n      <td>0.0</td>\n    </tr>\n    <tr>\n      <th>1</th>\n      <td>0.0</td>\n      <td>0.0</td>\n      <td>0.0</td>\n      <td>12.0</td>\n      <td>13.0</td>\n      <td>5.0</td>\n      <td>0.0</td>\n      <td>0.0</td>\n      <td>0.0</td>\n      <td>0.0</td>\n      <td>...</td>\n      <td>0.0</td>\n      <td>0.0</td>\n      <td>0.0</td>\n      <td>0.0</td>\n      <td>0.0</td>\n      <td>11.0</td>\n      <td>16.0</td>\n      <td>10.0</td>\n      <td>0.0</td>\n      <td>0.0</td>\n    </tr>\n    <tr>\n      <th>2</th>\n      <td>0.0</td>\n      <td>0.0</td>\n      <td>0.0</td>\n      <td>4.0</td>\n      <td>15.0</td>\n      <td>12.0</td>\n      <td>0.0</td>\n      <td>0.0</td>\n      <td>0.0</td>\n      <td>0.0</td>\n      <td>...</td>\n      <td>5.0</td>\n      <td>0.0</td>\n      <td>0.0</td>\n      <td>0.0</td>\n      <td>0.0</td>\n      <td>3.0</td>\n      <td>11.0</td>\n      <td>16.0</td>\n      <td>9.0</td>\n      <td>0.0</td>\n    </tr>\n  </tbody>\n</table>\n<p>3 rows × 64 columns</p>\n</div>"
     },
     "metadata": {},
     "execution_count": 18
    }
   ],
   "source": [
    "from sklearn.datasets import load_digits\n",
    "X2, y2 = load_digits(return_X_y=True, as_frame=True)\n",
    "X_train2, X_test2, y_train2, y_test2 = train_test_split(X2, y2, test_size=0.1, random_state=10)\n",
    "X2[:3]"
   ]
  },
  {
   "cell_type": "code",
   "execution_count": 22,
   "metadata": {},
   "outputs": [
    {
     "output_type": "stream",
     "name": "stdout",
     "text": [
      "06-10 14:16:29 I hypernets.u.common.py 124 - 10 class detected, inferred as a [multiclass classification] task\n",
      "06-10 14:16:29 I hypernets.c.meta_learner.py 22 - Initialize Meta Learner: dataset_id:057305cfa45497cbc156d366beac1173\n",
      "06-10 14:16:30 I hypernets.d.in_process_dispatcher.py 77 - Trial 1 done, reward: 1.0, best_trial_no:1, best_reward:1.0\n",
      "\n",
      "06-10 14:16:30 I hypernets.d.in_process_dispatcher.py 77 - Trial 2 done, reward: 1.0, best_trial_no:1, best_reward:1.0\n",
      "\n",
      "06-10 14:16:30 I hypernets.d.in_process_dispatcher.py 77 - Trial 3 done, reward: 1.0, best_trial_no:1, best_reward:1.0\n",
      "\n",
      "06-10 14:16:30 I hypernets.d.in_process_dispatcher.py 77 - Trial 4 done, reward: 1.0, best_trial_no:1, best_reward:1.0\n",
      "\n",
      "06-10 14:16:30 I hypernets.d.in_process_dispatcher.py 77 - Trial 5 done, reward: 1.0, best_trial_no:1, best_reward:1.0\n",
      "\n",
      "06-10 14:16:30 I hypernets.d.in_process_dispatcher.py 77 - Trial 6 done, reward: 0.9833333333333333, best_trial_no:6, best_reward:0.9833333333333333\n",
      "\n",
      "06-10 14:16:31 I hypernets.d.in_process_dispatcher.py 77 - Trial 7 done, reward: 1.0, best_trial_no:6, best_reward:0.9833333333333333\n",
      "\n",
      "06-10 14:16:31 I hypernets.d.in_process_dispatcher.py 77 - Trial 8 done, reward: 0.9888888888888889, best_trial_no:6, best_reward:0.9833333333333333\n",
      "\n",
      "06-10 14:16:31 I hypernets.d.in_process_dispatcher.py 77 - Trial 9 done, reward: 1.0, best_trial_no:6, best_reward:0.9833333333333333\n",
      "\n",
      "06-10 14:16:31 I hypernets.d.in_process_dispatcher.py 77 - Trial 10 done, reward: 1.0, best_trial_no:6, best_reward:0.9833333333333333\n",
      "\n"
     ]
    }
   ],
   "source": [
    "sampled_model2 = toy_KNN(searcher, task='multiclass')\n",
    "sampled_model2.search(X2, y2, X_eval=X_test2, y_eval=y_test2, cv=False)"
   ]
  },
  {
   "cell_type": "code",
   "execution_count": 23,
   "metadata": {},
   "outputs": [
    {
     "output_type": "stream",
     "name": "stdout",
     "text": [
      "06-10 14:17:39 I hypernets.u.common.py 124 - 10 class detected, inferred as a [multiclass classification] task\n",
      "06-10 14:17:39 I hypernets.c.meta_learner.py 22 - Initialize Meta Learner: dataset_id:057305cfa45497cbc156d366beac1173\n",
      "06-10 14:17:39 I hypernets.d.in_process_dispatcher.py 77 - Trial 1 done, reward: 0.9888888888888889, best_trial_no:1, best_reward:0.9888888888888889\n",
      "\n",
      "06-10 14:17:40 I hypernets.d.in_process_dispatcher.py 77 - Trial 2 done, reward: 0.9833333333333333, best_trial_no:2, best_reward:0.9833333333333333\n",
      "\n",
      "06-10 14:17:40 I hypernets.d.in_process_dispatcher.py 77 - Trial 3 done, reward: 0.9888888888888889, best_trial_no:2, best_reward:0.9833333333333333\n",
      "\n",
      "06-10 14:17:40 I hypernets.d.in_process_dispatcher.py 77 - Trial 4 done, reward: 1.0, best_trial_no:2, best_reward:0.9833333333333333\n",
      "\n",
      "06-10 14:17:40 I hypernets.d.in_process_dispatcher.py 77 - Trial 5 done, reward: 1.0, best_trial_no:2, best_reward:0.9833333333333333\n",
      "\n",
      "06-10 14:17:41 I hypernets.d.in_process_dispatcher.py 77 - Trial 6 done, reward: 0.9888888888888889, best_trial_no:2, best_reward:0.9833333333333333\n",
      "\n",
      "06-10 14:17:41 I hypernets.d.in_process_dispatcher.py 77 - Trial 7 done, reward: 0.9888888888888889, best_trial_no:2, best_reward:0.9833333333333333\n",
      "\n",
      "06-10 14:17:41 I hypernets.d.in_process_dispatcher.py 77 - Trial 8 done, reward: 1.0, best_trial_no:2, best_reward:0.9833333333333333\n",
      "\n",
      "06-10 14:17:41 I hypernets.d.in_process_dispatcher.py 77 - Trial 9 done, reward: 1.0, best_trial_no:2, best_reward:0.9833333333333333\n",
      "\n",
      "06-10 14:17:42 I hypernets.d.in_process_dispatcher.py 77 - Trial 10 done, reward: 1.0, best_trial_no:2, best_reward:0.9833333333333333\n",
      "\n"
     ]
    }
   ],
   "source": [
    "sampled_model3 = toy_KNN(searcher1, task='multiclass')\n",
    "sampled_model3.search(X2, y2, X_eval=X_test2, y_eval=y_test2, cv=False)"
   ]
  },
  {
   "cell_type": "code",
   "execution_count": 24,
   "metadata": {},
   "outputs": [],
   "source": [
    "best_classifier = sampled_model.load_estimator(sampled_model.get_best_trial().model_file)\n"
   ]
  },
  {
   "cell_type": "code",
   "execution_count": null,
   "metadata": {},
   "outputs": [],
   "source": []
  }
 ]
}