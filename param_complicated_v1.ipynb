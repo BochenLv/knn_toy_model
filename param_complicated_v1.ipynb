{
 "cells": [
  {
   "cell_type": "code",
   "execution_count": 2,
   "id": "9c92dc79-3478-4afa-9f26-835800f65784",
   "metadata": {},
   "outputs": [],
   "source": [
    "from os import name\n",
    "from sys import modules\n",
    "import pickle\n",
    "import copy\n",
    "\n",
    "from hypernets.core.ops import HyperInput, ModuleChoice\n",
    "from hypernets.core.search_space import Choice, HyperNode, HyperSpace, ModuleSpace\n",
    "from hypernets.model import Estimator, HyperModel\n",
    "from hypernets.utils import fs\n",
    "from hypernets.searchers.random_searcher import RandomSearcher\n",
    "\n",
    "from sklearn import neighbors"
   ]
  },
  {
   "cell_type": "code",
   "execution_count": 6,
   "id": "40c51d4e-9cf1-4e24-b901-dd96047dac6e",
   "metadata": {},
   "outputs": [],
   "source": [
    "class Param_space(object):\n",
    "    def __init__(self, **kwargs):\n",
    "        super(Param_space, self).__init__()\n",
    "\n",
    "    @property\n",
    "    def knn(self):\n",
    "        return dict(\n",
    "            cls=neighbors.KNeighborsClassifier,\n",
    "            n_neighbors=Choice([2, 3, 5, 6]),\n",
    "            weights=Choice(['uniform', 'distance']),\n",
    "            algorithm=Choice(['auto', 'ball_tree', 'kd_tree', 'brute']),\n",
    "            leaf_size=Choice([20, 30, 40]),\n",
    "            p=Choice([1, 2]),\n",
    "        )    \n",
    "\n",
    "    def __call__(self, *args, **kwargs):\n",
    "        space = HyperSpace()\n",
    "        with space.as_default():\n",
    "            hyper_input = HyperInput(name='input')\n",
    "            model = self.knn\n",
    "            modules = [ModuleSpace(name=f'{model[\"cls\"].__name__}', **model)]\n",
    "            outputs = ModuleChoice(modules)(hyper_input)\n",
    "            space.set_inputs(hyper_input)\n",
    "\n",
    "        return space"
   ]
  },
  {
   "cell_type": "code",
   "execution_count": 31,
   "id": "4b5c4d1b-7e1e-4a9d-905f-85fbc0a51980",
   "metadata": {},
   "outputs": [
    {
     "data": {
      "text/html": [
       "<table border=\"1\" class=\"dataframe\">\n",
       "<thead>\n",
       "<tr style=\"text-align: right;\">\n",
       "  <th>key</th>\n",
       "  <th>value</th>\n",
       "</tr>\n",
       "</thead>\n",
       "<tbody><tr>\n",
       "  <td>signature</td>\n",
       "  <td>b4c8e43952e0f0ccea1a662bd2036f88</td>\n",
       "</tr>\n",
       "<tr>\n",
       "  <td>vectors</td>\n",
       "  <td>[2, 1, 3, 1, 0]</td>\n",
       "</tr><tr>\n",
       "  <td>0-KNeighborsClassifier.n_neighbors</td>\n",
       "  <td>5</td>\n",
       "</tr>\n",
       "<tr><tr>\n",
       "  <td>1-KNeighborsClassifier.weights</td>\n",
       "  <td>distance</td>\n",
       "</tr>\n",
       "<tr><tr>\n",
       "  <td>2-KNeighborsClassifier.algorithm</td>\n",
       "  <td>brute</td>\n",
       "</tr>\n",
       "<tr><tr>\n",
       "  <td>3-KNeighborsClassifier.leaf_size</td>\n",
       "  <td>30</td>\n",
       "</tr>\n",
       "<tr><tr>\n",
       "  <td>4-KNeighborsClassifier.p</td>\n",
       "  <td>1</td>\n",
       "</tr>\n",
       "<tr>  </tbody>\n",
       "</table>\n",
       "</div>"
      ],
      "text/plain": [
       "DAG_HyperSpace_1"
      ]
     },
     "execution_count": 31,
     "metadata": {},
     "output_type": "execute_result"
    }
   ],
   "source": [
    "#check the search_space\n",
    "search_space = Param_space()\n",
    "searcher = RandomSearcher(search_space, optimize_direction='max')\n",
    "searcher.sample()"
   ]
  },
  {
   "cell_type": "code",
   "execution_count": 32,
   "id": "ef154e4a-5ad9-49fa-9d00-53c4bf21bc54",
   "metadata": {},
   "outputs": [],
   "source": [
    "class KnnEstimator(Estimator):\n",
    "    def __init__(self, space_sample, task='binary'):\n",
    "        super(KnnEstimator, self).__init__(space_sample, task)\n",
    "\n",
    "        out = space_sample.get_outputs()[0]\n",
    "        kwargs = out.param_values\n",
    "        kwargs = {key: value for key, value in kwargs.items() if not isinstance(value, HyperNode)}\n",
    "\n",
    "        cls = kwargs.pop('cls')\n",
    "        self.model = cls(**kwargs)\n",
    "        self.cls = cls\n",
    "        self.model_args = kwargs\n",
    "    \n",
    "    def fit(self, X, y, **kwargs):\n",
    "        self.model.fit(X, y, **kwargs)\n",
    "\n",
    "        return self\n",
    "    \n",
    "    def predict(self, X, **kwargs):\n",
    "        pred = self.model.predict(X, **kwargs)\n",
    "\n",
    "        return pred\n",
    "\n",
    "    def evaluate(self, X, y, **kwargs):\n",
    "        scores = self.model.score(X, y)\n",
    "\n",
    "        return scores\n",
    "    \n",
    "    def save(self, model_file):\n",
    "        with fs.open(model_file, 'wb') as f:\n",
    "            pickle.dump(self, f, protocol=4)\n",
    "\n",
    "    @staticmethod\n",
    "    def load(model_file):\n",
    "        with fs.open(model_file, 'rb') as f:\n",
    "            return pickle.load(f)\n",
    "    \n",
    "    def get_iteration_scores(self):\n",
    "        return {}"
   ]
  },
  {
   "cell_type": "code",
   "execution_count": 33,
   "id": "fcd8546c-762c-4c2e-a7bb-65a6e823dc93",
   "metadata": {},
   "outputs": [],
   "source": [
    "class KnnModel(HyperModel):\n",
    "    def __init__(self, searcher, reward_metric=None, task=None):\n",
    "        super(KnnModel, self).__init__(searcher, reward_metric=reward_metric, task=task)\n",
    "    \n",
    "    def _get_estimator(self, space_sample):\n",
    "        return KnnEstimator(space_sample, task=self.task)\n",
    "    \n",
    "    def load_estimator(self, model_file):\n",
    "        return KnnEstimator.load(model_file)"
   ]
  },
  {
   "cell_type": "code",
   "execution_count": 50,
   "id": "09d02fb2-3308-4076-b9df-c5d0899e6c66",
   "metadata": {},
   "outputs": [
    {
     "data": {
      "text/html": [
       "<div>\n",
       "<style scoped>\n",
       "    .dataframe tbody tr th:only-of-type {\n",
       "        vertical-align: middle;\n",
       "    }\n",
       "\n",
       "    .dataframe tbody tr th {\n",
       "        vertical-align: top;\n",
       "    }\n",
       "\n",
       "    .dataframe thead th {\n",
       "        text-align: right;\n",
       "    }\n",
       "</style>\n",
       "<table border=\"1\" class=\"dataframe\">\n",
       "  <thead>\n",
       "    <tr style=\"text-align: right;\">\n",
       "      <th></th>\n",
       "      <th>pixel_0_0</th>\n",
       "      <th>pixel_0_1</th>\n",
       "      <th>pixel_0_2</th>\n",
       "      <th>pixel_0_3</th>\n",
       "      <th>pixel_0_4</th>\n",
       "      <th>pixel_0_5</th>\n",
       "      <th>pixel_0_6</th>\n",
       "      <th>pixel_0_7</th>\n",
       "      <th>pixel_1_0</th>\n",
       "      <th>pixel_1_1</th>\n",
       "      <th>...</th>\n",
       "      <th>pixel_6_6</th>\n",
       "      <th>pixel_6_7</th>\n",
       "      <th>pixel_7_0</th>\n",
       "      <th>pixel_7_1</th>\n",
       "      <th>pixel_7_2</th>\n",
       "      <th>pixel_7_3</th>\n",
       "      <th>pixel_7_4</th>\n",
       "      <th>pixel_7_5</th>\n",
       "      <th>pixel_7_6</th>\n",
       "      <th>pixel_7_7</th>\n",
       "    </tr>\n",
       "  </thead>\n",
       "  <tbody>\n",
       "    <tr>\n",
       "      <th>0</th>\n",
       "      <td>0.0</td>\n",
       "      <td>0.0</td>\n",
       "      <td>5.0</td>\n",
       "      <td>13.0</td>\n",
       "      <td>9.0</td>\n",
       "      <td>1.0</td>\n",
       "      <td>0.0</td>\n",
       "      <td>0.0</td>\n",
       "      <td>0.0</td>\n",
       "      <td>0.0</td>\n",
       "      <td>...</td>\n",
       "      <td>0.0</td>\n",
       "      <td>0.0</td>\n",
       "      <td>0.0</td>\n",
       "      <td>0.0</td>\n",
       "      <td>6.0</td>\n",
       "      <td>13.0</td>\n",
       "      <td>10.0</td>\n",
       "      <td>0.0</td>\n",
       "      <td>0.0</td>\n",
       "      <td>0.0</td>\n",
       "    </tr>\n",
       "    <tr>\n",
       "      <th>1</th>\n",
       "      <td>0.0</td>\n",
       "      <td>0.0</td>\n",
       "      <td>0.0</td>\n",
       "      <td>12.0</td>\n",
       "      <td>13.0</td>\n",
       "      <td>5.0</td>\n",
       "      <td>0.0</td>\n",
       "      <td>0.0</td>\n",
       "      <td>0.0</td>\n",
       "      <td>0.0</td>\n",
       "      <td>...</td>\n",
       "      <td>0.0</td>\n",
       "      <td>0.0</td>\n",
       "      <td>0.0</td>\n",
       "      <td>0.0</td>\n",
       "      <td>0.0</td>\n",
       "      <td>11.0</td>\n",
       "      <td>16.0</td>\n",
       "      <td>10.0</td>\n",
       "      <td>0.0</td>\n",
       "      <td>0.0</td>\n",
       "    </tr>\n",
       "    <tr>\n",
       "      <th>2</th>\n",
       "      <td>0.0</td>\n",
       "      <td>0.0</td>\n",
       "      <td>0.0</td>\n",
       "      <td>4.0</td>\n",
       "      <td>15.0</td>\n",
       "      <td>12.0</td>\n",
       "      <td>0.0</td>\n",
       "      <td>0.0</td>\n",
       "      <td>0.0</td>\n",
       "      <td>0.0</td>\n",
       "      <td>...</td>\n",
       "      <td>5.0</td>\n",
       "      <td>0.0</td>\n",
       "      <td>0.0</td>\n",
       "      <td>0.0</td>\n",
       "      <td>0.0</td>\n",
       "      <td>3.0</td>\n",
       "      <td>11.0</td>\n",
       "      <td>16.0</td>\n",
       "      <td>9.0</td>\n",
       "      <td>0.0</td>\n",
       "    </tr>\n",
       "  </tbody>\n",
       "</table>\n",
       "<p>3 rows × 64 columns</p>\n",
       "</div>"
      ],
      "text/plain": [
       "   pixel_0_0  pixel_0_1  pixel_0_2  pixel_0_3  pixel_0_4  pixel_0_5  \\\n",
       "0        0.0        0.0        5.0       13.0        9.0        1.0   \n",
       "1        0.0        0.0        0.0       12.0       13.0        5.0   \n",
       "2        0.0        0.0        0.0        4.0       15.0       12.0   \n",
       "\n",
       "   pixel_0_6  pixel_0_7  pixel_1_0  pixel_1_1  ...  pixel_6_6  pixel_6_7  \\\n",
       "0        0.0        0.0        0.0        0.0  ...        0.0        0.0   \n",
       "1        0.0        0.0        0.0        0.0  ...        0.0        0.0   \n",
       "2        0.0        0.0        0.0        0.0  ...        5.0        0.0   \n",
       "\n",
       "   pixel_7_0  pixel_7_1  pixel_7_2  pixel_7_3  pixel_7_4  pixel_7_5  \\\n",
       "0        0.0        0.0        6.0       13.0       10.0        0.0   \n",
       "1        0.0        0.0        0.0       11.0       16.0       10.0   \n",
       "2        0.0        0.0        0.0        3.0       11.0       16.0   \n",
       "\n",
       "   pixel_7_6  pixel_7_7  \n",
       "0        0.0        0.0  \n",
       "1        0.0        0.0  \n",
       "2        9.0        0.0  \n",
       "\n",
       "[3 rows x 64 columns]"
      ]
     },
     "execution_count": 50,
     "metadata": {},
     "output_type": "execute_result"
    }
   ],
   "source": [
    "from sklearn.datasets import load_digits\n",
    "from sklearn.model_selection import train_test_split\n",
    "\n",
    "X, y = load_digits(return_X_y=True, as_frame=True)\n",
    "X_train, X_test, y_train, y_test = train_test_split(X, y, test_size=0.2, random_state=42)\n",
    "X[:3]"
   ]
  },
  {
   "cell_type": "code",
   "execution_count": 55,
   "id": "327c3ab9-aea6-4ec7-9fa9-2899783ae46e",
   "metadata": {},
   "outputs": [
    {
     "name": "stdout",
     "output_type": "stream",
     "text": [
      "06-24 11:32:46 I hypernets.u.common.py 124 - 10 class detected, inferred as a [multiclass classification] task\n",
      "06-24 11:32:46 I hypernets.c.meta_learner.py 22 - Initialize Meta Learner: dataset_id:98aca899f062bf957947e497ae4237e3\n",
      "06-24 11:32:46 I hypernets.d.in_process_dispatcher.py 77 - Trial 1 done, reward: 0.9777777777777777, best_trial_no:1, best_reward:0.9777777777777777\n",
      "\n",
      "06-24 11:32:46 I hypernets.d.in_process_dispatcher.py 77 - Trial 2 done, reward: 0.9777777777777777, best_trial_no:1, best_reward:0.9777777777777777\n",
      "\n",
      "06-24 11:32:46 I hypernets.d.in_process_dispatcher.py 77 - Trial 3 done, reward: 0.9861111111111112, best_trial_no:3, best_reward:0.9861111111111112\n",
      "\n",
      "06-24 11:32:46 I hypernets.d.in_process_dispatcher.py 77 - Trial 4 done, reward: 0.9888888888888889, best_trial_no:4, best_reward:0.9888888888888889\n",
      "\n",
      "06-24 11:32:46 I hypernets.d.in_process_dispatcher.py 77 - Trial 5 done, reward: 0.9888888888888889, best_trial_no:4, best_reward:0.9888888888888889\n",
      "\n",
      "06-24 11:32:46 I hypernets.d.in_process_dispatcher.py 77 - Trial 6 done, reward: 0.9777777777777777, best_trial_no:4, best_reward:0.9888888888888889\n",
      "\n",
      "06-24 11:32:46 I hypernets.d.in_process_dispatcher.py 77 - Trial 7 done, reward: 0.9777777777777777, best_trial_no:4, best_reward:0.9888888888888889\n",
      "\n",
      "06-24 11:32:46 I hypernets.d.in_process_dispatcher.py 77 - Trial 8 done, reward: 0.9805555555555555, best_trial_no:4, best_reward:0.9888888888888889\n",
      "\n",
      "06-24 11:32:46 I hypernets.d.in_process_dispatcher.py 77 - Trial 9 done, reward: 0.975, best_trial_no:4, best_reward:0.9888888888888889\n",
      "\n",
      "06-24 11:32:46 I hypernets.d.in_process_dispatcher.py 77 - Trial 10 done, reward: 0.9777777777777777, best_trial_no:4, best_reward:0.9888888888888889\n",
      "\n"
     ]
    }
   ],
   "source": [
    "model = KnnModel(searcher=searcher, task='binary', reward_metric='accuracy')\n",
    "model.search(X_train, y_train, X_test, y_test)"
   ]
  },
  {
   "cell_type": "code",
   "execution_count": 44,
   "id": "9c7d0909-1b48-4967-8a80-356bb31b7b10",
   "metadata": {},
   "outputs": [],
   "source": [
    "best_model = model.get_best_trial()\n",
    "final_model = model.final_train(best_model.space_sample, X_train, y_train)"
   ]
  },
  {
   "cell_type": "code",
   "execution_count": 45,
   "id": "3c51c34d-2ecb-4c67-ba24-59875fa475bb",
   "metadata": {},
   "outputs": [
    {
     "data": {
      "text/plain": [
       "0.9895615866388309"
      ]
     },
     "execution_count": 45,
     "metadata": {},
     "output_type": "execute_result"
    }
   ],
   "source": [
    "final_model.evaluate(X_train, y_train)"
   ]
  },
  {
   "cell_type": "code",
   "execution_count": 47,
   "id": "fc7d0cd0-d3fd-4d57-967d-36d468c11fc4",
   "metadata": {},
   "outputs": [
    {
     "data": {
      "text/html": [
       "<div>\n",
       "<style scoped>\n",
       "    .dataframe tbody tr th:only-of-type {\n",
       "        vertical-align: middle;\n",
       "    }\n",
       "\n",
       "    .dataframe tbody tr th {\n",
       "        vertical-align: top;\n",
       "    }\n",
       "\n",
       "    .dataframe thead th {\n",
       "        text-align: right;\n",
       "    }\n",
       "</style>\n",
       "<table border=\"1\" class=\"dataframe\">\n",
       "  <thead>\n",
       "    <tr style=\"text-align: right;\">\n",
       "      <th></th>\n",
       "      <th>sepal length (cm)</th>\n",
       "      <th>sepal width (cm)</th>\n",
       "      <th>petal length (cm)</th>\n",
       "      <th>petal width (cm)</th>\n",
       "    </tr>\n",
       "  </thead>\n",
       "  <tbody>\n",
       "    <tr>\n",
       "      <th>0</th>\n",
       "      <td>5.1</td>\n",
       "      <td>3.5</td>\n",
       "      <td>1.4</td>\n",
       "      <td>0.2</td>\n",
       "    </tr>\n",
       "    <tr>\n",
       "      <th>1</th>\n",
       "      <td>4.9</td>\n",
       "      <td>3.0</td>\n",
       "      <td>1.4</td>\n",
       "      <td>0.2</td>\n",
       "    </tr>\n",
       "    <tr>\n",
       "      <th>2</th>\n",
       "      <td>4.7</td>\n",
       "      <td>3.2</td>\n",
       "      <td>1.3</td>\n",
       "      <td>0.2</td>\n",
       "    </tr>\n",
       "  </tbody>\n",
       "</table>\n",
       "</div>"
      ],
      "text/plain": [
       "   sepal length (cm)  sepal width (cm)  petal length (cm)  petal width (cm)\n",
       "0                5.1               3.5                1.4               0.2\n",
       "1                4.9               3.0                1.4               0.2\n",
       "2                4.7               3.2                1.3               0.2"
      ]
     },
     "execution_count": 47,
     "metadata": {},
     "output_type": "execute_result"
    }
   ],
   "source": [
    "from sklearn.datasets import load_iris\n",
    "from sklearn.model_selection import train_test_split\n",
    "\n",
    "X1, y1 = load_iris(return_X_y=True, as_frame=True)\n",
    "X1_train, X1_test, y1_train, y1_test = train_test_split(X1, y1, test_size=0.2, random_state=42)\n",
    "X1[:3]"
   ]
  },
  {
   "cell_type": "code",
   "execution_count": 57,
   "id": "dd0838b3-4902-4953-a2dd-5f9ce4e483e1",
   "metadata": {},
   "outputs": [
    {
     "name": "stdout",
     "output_type": "stream",
     "text": [
      "06-24 11:33:25 I hypernets.u.common.py 124 - 3 class detected, inferred as a [multiclass classification] task\n",
      "06-24 11:33:25 I hypernets.c.meta_learner.py 22 - Initialize Meta Learner: dataset_id:74e7c134740a0f846f4c5e57fa5e6c93\n",
      "06-24 11:33:25 I hypernets.d.in_process_dispatcher.py 77 - Trial 1 done, reward: 1.0, best_trial_no:1, best_reward:1.0\n",
      "\n",
      "06-24 11:33:25 I hypernets.d.in_process_dispatcher.py 77 - Trial 2 done, reward: 1.0, best_trial_no:1, best_reward:1.0\n",
      "\n",
      "06-24 11:33:25 I hypernets.d.in_process_dispatcher.py 77 - Trial 3 done, reward: 1.0, best_trial_no:1, best_reward:1.0\n",
      "\n",
      "06-24 11:33:25 I hypernets.d.in_process_dispatcher.py 77 - Trial 4 done, reward: 1.0, best_trial_no:1, best_reward:1.0\n",
      "\n",
      "06-24 11:33:25 I hypernets.d.in_process_dispatcher.py 77 - Trial 5 done, reward: 1.0, best_trial_no:1, best_reward:1.0\n",
      "\n",
      "06-24 11:33:25 I hypernets.d.in_process_dispatcher.py 77 - Trial 6 done, reward: 1.0, best_trial_no:1, best_reward:1.0\n",
      "\n",
      "06-24 11:33:25 I hypernets.d.in_process_dispatcher.py 77 - Trial 7 done, reward: 1.0, best_trial_no:1, best_reward:1.0\n",
      "\n",
      "06-24 11:33:25 I hypernets.d.in_process_dispatcher.py 77 - Trial 8 done, reward: 1.0, best_trial_no:1, best_reward:1.0\n",
      "\n",
      "06-24 11:33:25 I hypernets.d.in_process_dispatcher.py 77 - Trial 9 done, reward: 1.0, best_trial_no:1, best_reward:1.0\n",
      "\n",
      "06-24 11:33:25 I hypernets.d.in_process_dispatcher.py 77 - Trial 10 done, reward: 1.0, best_trial_no:1, best_reward:1.0\n",
      "\n"
     ]
    }
   ],
   "source": [
    "# another dataset, task set as 'abc'\n",
    "model1 = KnnModel(searcher=searcher, task='abc', reward_metric='accuracy')\n",
    "model1.search(X1_train, y1_train, X1_test, y1_test)"
   ]
  },
  {
   "cell_type": "code",
   "execution_count": 58,
   "id": "e0a467d5-43ba-423e-a10b-3436a0b0dd3d",
   "metadata": {},
   "outputs": [
    {
     "data": {
      "text/plain": [
       "1.0"
      ]
     },
     "execution_count": 58,
     "metadata": {},
     "output_type": "execute_result"
    }
   ],
   "source": [
    "best_model1 = model1.get_best_trial()\n",
    "final_model1 = model1.final_train(best_model1.space_sample, X1_train, y1_train)\n",
    "final_model1.evaluate(X1_train, y1_train)"
   ]
  }
 ],
 "metadata": {
  "kernelspec": {
   "display_name": "Python 3",
   "language": "python",
   "name": "python3"
  },
  "language_info": {
   "codemirror_mode": {
    "name": "ipython",
    "version": 3
   },
   "file_extension": ".py",
   "mimetype": "text/x-python",
   "name": "python",
   "nbconvert_exporter": "python",
   "pygments_lexer": "ipython3",
   "version": "3.7.10"
  }
 },
 "nbformat": 4,
 "nbformat_minor": 5
}
